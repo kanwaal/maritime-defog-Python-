{
 "cells": [
  {
   "cell_type": "code",
   "execution_count": 1,
   "metadata": {},
   "outputs": [],
   "source": [
    "import scipy.io\n",
    "import numpy as np\n",
    "from numpy.fft import fft2, ifft2, fftshift"
   ]
  },
  {
   "cell_type": "code",
   "execution_count": 2,
   "metadata": {},
   "outputs": [],
   "source": [
    "def mean_absolute_error(y_true, y_pred):\n",
    "    \"\"\"\n",
    "    Calculate the Mean Absolute Error between two arrays of values.\n",
    "\n",
    "    Parameters:\n",
    "    y_true (numpy array or list): Actual values\n",
    "    y_pred (numpy array or list): Predicted values\n",
    "\n",
    "    Returns:\n",
    "    float: The Mean Absolute Error\n",
    "    \"\"\"\n",
    "    y_true = np.asarray(y_true)\n",
    "    y_pred = np.asarray(y_pred)\n",
    "    \n",
    "    if y_true.shape != y_pred.shape:\n",
    "        raise ValueError(\"Input arrays must have the same shape.\")\n",
    "    \n",
    "    mae = np.mean(np.abs(y_true - y_pred))\n",
    "    return mae"
   ]
  },
  {
   "cell_type": "code",
   "execution_count": 3,
   "metadata": {},
   "outputs": [],
   "source": [
    "def psf2otf(psf, shape):\n",
    "    psf = np.pad(psf, [(0, shape[0] - psf.shape[0]), (0, shape[1] - psf.shape[1])], mode='constant')\n",
    "    for axis, axis_size in enumerate(psf.shape):\n",
    "        psf = np.roll(psf, -axis_size // 2, axis=axis)\n",
    "    otf = fft2(psf.T).T\n",
    "    return otf"
   ]
  },
  {
   "cell_type": "code",
   "execution_count": 4,
   "metadata": {},
   "outputs": [],
   "source": [
    "mat = scipy.io.loadmat(\"F:\\Azaab work\\python files\\Mat_3\\PSF2OF.mat\")\n",
    "otfFx = mat['otfFx']\n",
    "otfFy = mat['otfFy']"
   ]
  },
  {
   "cell_type": "markdown",
   "metadata": {},
   "source": [
    "# These Filters were initially used"
   ]
  },
  {
   "cell_type": "code",
   "execution_count": 5,
   "metadata": {},
   "outputs": [
    {
     "name": "stdout",
     "output_type": "stream",
     "text": [
      "(1+1.9904454487090755e-18j)\n",
      "(0.9999999999999996+1.2461114297499604e-16j)\n"
     ]
    }
   ],
   "source": [
    "f1 = np.array([[1, -1]])\n",
    "f2 = np.array([[1], [-1]])\n",
    "Py_otfFx = psf2otf(f1, (int(mat['H']),int(mat['W'])))\n",
    "Py_otfFy = psf2otf(f2, (int(mat['H']),int(mat['W'])))\n",
    "print(np.mean(Py_otfFx-otfFx)**2)\n",
    "print(np.mean(Py_otfFy-otfFy)**2)"
   ]
  },
  {
   "cell_type": "markdown",
   "metadata": {},
   "source": [
    "# We updated f1 and f2 for python"
   ]
  },
  {
   "cell_type": "code",
   "execution_count": 8,
   "metadata": {},
   "outputs": [
    {
     "name": "stdout",
     "output_type": "stream",
     "text": [
      "Error in otfFx is 3.934642533860039e-16\n",
      "Error in otfFy is 4.466706592003983e-16\n"
     ]
    }
   ],
   "source": [
    "f1 = np.array([[0, 0, 0],[1, -1, 0],[0, 0, 0]])\n",
    "f2 = np.array([[0, 1, 0],[0, -1, 0],[0, 0, 0]])\n",
    "Py_otfFx = psf2otf(f1, (int(mat['H']),int(mat['W'])))\n",
    "Py_otfFy = psf2otf(f2, (int(mat['H']),int(mat['W'])))\n",
    "\n",
    "print(\"Error in otfFx is {}\". format(mean_absolute_error(np.abs(Py_otfFx),np.abs(otfFx))))\n",
    "print(\"Error in otfFy is {}\". format(mean_absolute_error(np.abs(Py_otfFy),np.abs(otfFy))))\n",
    "# print(np.mean(Py_otfFy-otfFy)**2)"
   ]
  },
  {
   "cell_type": "code",
   "execution_count": null,
   "metadata": {},
   "outputs": [],
   "source": []
  }
 ],
 "metadata": {
  "kernelspec": {
   "display_name": "baan",
   "language": "python",
   "name": "baan"
  },
  "language_info": {
   "codemirror_mode": {
    "name": "ipython",
    "version": 3
   },
   "file_extension": ".py",
   "mimetype": "text/x-python",
   "name": "python",
   "nbconvert_exporter": "python",
   "pygments_lexer": "ipython3",
   "version": "3.7.6"
  }
 },
 "nbformat": 4,
 "nbformat_minor": 2
}
